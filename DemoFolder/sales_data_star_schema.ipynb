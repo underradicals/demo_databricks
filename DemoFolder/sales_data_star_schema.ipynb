{
 "cells": [
  {
   "cell_type": "code",
   "execution_count": 0,
   "metadata": {
    "application/vnd.databricks.v1+cell": {
     "cellMetadata": {
      "byteLimit": 2048000,
      "implicitDf": true,
      "rowLimit": 10000
     },
     "inputWidgets": {},
     "nuid": "2819c769-3f74-4e26-a77e-da7657d06951",
     "showTitle": false,
     "tableResultSettingsMap": {},
     "title": ""
    }
   },
   "outputs": [],
   "source": [
    "%sql\n",
    "select * from sales_data.bronze.sales;"
   ]
  },
  {
   "cell_type": "markdown",
   "metadata": {
    "application/vnd.databricks.v1+cell": {
     "cellMetadata": {},
     "inputWidgets": {},
     "nuid": "64422f65-d385-460d-8892-4a5e938dacd4",
     "showTitle": false,
     "tableResultSettingsMap": {},
     "title": ""
    }
   },
   "source": [
    "### Lets break up the Table into events and objects"
   ]
  },
  {
   "cell_type": "markdown",
   "metadata": {
    "application/vnd.databricks.v1+cell": {
     "cellMetadata": {},
     "inputWidgets": {},
     "nuid": "a6e7b90c-2e7b-4f93-98d6-a5203388c6c5",
     "showTitle": false,
     "tableResultSettingsMap": {},
     "title": ""
    }
   },
   "source": [
    "### Customer Dimension"
   ]
  },
  {
   "cell_type": "code",
   "execution_count": 0,
   "metadata": {
    "application/vnd.databricks.v1+cell": {
     "cellMetadata": {
      "byteLimit": 2048000,
      "rowLimit": 10000
     },
     "inputWidgets": {},
     "nuid": "7b57e24c-7e9b-46a9-826b-035fc5f28624",
     "showTitle": false,
     "tableResultSettingsMap": {},
     "title": ""
    }
   },
   "outputs": [],
   "source": [
    "%sql\n",
    "-- create table if not exists sales_data.silver.customer_dim(\n",
    "--   customer_id serial primary key ,\n",
    "--   customer_name string not null ,\n",
    "--   customer_city string not null ,\n",
    "--   customer_state string not null ,\n",
    "--   customer_country string not null\n",
    "-- );\n",
    "create table if not exists sales_data.silver.customer_dim using delta as \n",
    "select \n",
    "CustomerID,\n",
    "CustomerName,\n",
    "CustomerCity,\n",
    "CustomerState,\n",
    "CustomerCountry\n",
    "from sales_data.bronze.sales;\n",
    "\n",
    "select * from sales_data.silver.customer_dim;"
   ]
  },
  {
   "cell_type": "markdown",
   "metadata": {
    "application/vnd.databricks.v1+cell": {
     "cellMetadata": {},
     "inputWidgets": {},
     "nuid": "00ba2096-a059-498e-a451-b1a2201e725d",
     "showTitle": false,
     "tableResultSettingsMap": {},
     "title": ""
    }
   },
   "source": [
    "### Product Dimension"
   ]
  },
  {
   "cell_type": "code",
   "execution_count": 0,
   "metadata": {
    "application/vnd.databricks.v1+cell": {
     "cellMetadata": {
      "byteLimit": 2048000,
      "rowLimit": 10000
     },
     "inputWidgets": {},
     "nuid": "1f7b0385-16dd-4e9e-8d01-4e3b4315f37b",
     "showTitle": false,
     "tableResultSettingsMap": {},
     "title": ""
    }
   },
   "outputs": [],
   "source": [
    "%sql\n",
    "-- create table if not exists sales_data.silver.product_dim(\n",
    "--   product_id serial primary key ,\n",
    "--   product_name string not null ,\n",
    "--   product_category string not null ,\n",
    "--   product_sub_category string not null\n",
    "-- );\n",
    "create table if not exists sales_data.silver.product_dim using delta as \n",
    "select \n",
    "ProductID,\n",
    "ProductName,\n",
    "ProductCategory,\n",
    "ProductSubCategory\n",
    "from sales_data.bronze.sales;\n",
    "\n",
    "select * from sales_data.silver.product_dim;"
   ]
  },
  {
   "cell_type": "markdown",
   "metadata": {
    "application/vnd.databricks.v1+cell": {
     "cellMetadata": {},
     "inputWidgets": {},
     "nuid": "58ff36ca-77a6-4df1-bbbc-26e54f0e5b4e",
     "showTitle": false,
     "tableResultSettingsMap": {},
     "title": ""
    }
   },
   "source": [
    "### Supplier Dimension"
   ]
  },
  {
   "cell_type": "code",
   "execution_count": 0,
   "metadata": {
    "application/vnd.databricks.v1+cell": {
     "cellMetadata": {
      "byteLimit": 2048000,
      "rowLimit": 10000
     },
     "inputWidgets": {},
     "nuid": "d4d2a3de-5b56-4369-9003-db1988e4e95e",
     "showTitle": false,
     "tableResultSettingsMap": {},
     "title": ""
    }
   },
   "outputs": [],
   "source": [
    "%sql\n",
    "-- create table if not exists sales_data.silver.supplier_dim(\n",
    "--   supplier_id serial primary key ,\n",
    "--   supplier_naem string not null ,\n",
    "--   supplier_city string not null\n",
    "-- );\n",
    "\n",
    "create table if not exists sales_data.silver.supplier_dim using delta as\n",
    "select \n",
    "SupplierID,\n",
    "SupplierName,\n",
    "SupplierCity\n",
    "from sales_data.bronze.sales;\n",
    "\n",
    "select * from sales_data.silver.supplier_dim;"
   ]
  },
  {
   "cell_type": "markdown",
   "metadata": {
    "application/vnd.databricks.v1+cell": {
     "cellMetadata": {},
     "inputWidgets": {},
     "nuid": "2d3f55cc-598d-4d26-af0b-17329a447fbc",
     "showTitle": false,
     "tableResultSettingsMap": {},
     "title": ""
    }
   },
   "source": [
    "### SalesPerson Dimension"
   ]
  },
  {
   "cell_type": "code",
   "execution_count": 0,
   "metadata": {
    "application/vnd.databricks.v1+cell": {
     "cellMetadata": {
      "byteLimit": 2048000,
      "rowLimit": 10000
     },
     "inputWidgets": {},
     "nuid": "b13455f1-5434-43f1-9c15-d49b21614a39",
     "showTitle": false,
     "tableResultSettingsMap": {},
     "title": ""
    }
   },
   "outputs": [],
   "source": [
    "%sql\n",
    "-- create table if not exists sales_data.silver.salesperson_dim(\n",
    "--   sp_id serial primary key ,\n",
    "--   sp_name string not null ,\n",
    "--   sp_region string not null\n",
    "-- );\n",
    "\n",
    "create table if not exists sales_data.silver.salesperson_dim using delta as\n",
    "select \n",
    "SalesPersonID,\n",
    "SalesPersonName,\n",
    "SalesPersonRegion\n",
    "from sales_data.bronze.sales;\n",
    "\n",
    "select * from sales_data.silver.salesperson_dim;"
   ]
  },
  {
   "cell_type": "markdown",
   "metadata": {
    "application/vnd.databricks.v1+cell": {
     "cellMetadata": {},
     "inputWidgets": {},
     "nuid": "536d3b93-0cc9-421d-910a-f393a931d5e5",
     "showTitle": false,
     "tableResultSettingsMap": {},
     "title": ""
    }
   },
   "source": [
    "### Sales Fact Table"
   ]
  },
  {
   "cell_type": "code",
   "execution_count": 0,
   "metadata": {
    "application/vnd.databricks.v1+cell": {
     "cellMetadata": {
      "byteLimit": 2048000,
      "rowLimit": 10000
     },
     "inputWidgets": {},
     "nuid": "d72aef10-1c4a-4590-b86e-12bb7a95d994",
     "showTitle": false,
     "tableResultSettingsMap": {},
     "title": ""
    }
   },
   "outputs": [],
   "source": [
    "%sql\n",
    "-- create table if not exists sales_data.silver.sales_fact (\n",
    "--   order_id serial primary key ,\n",
    "--   sales_order_date date ,\n",
    "--   sales_quanity long ,\n",
    "--   sales_unit_price double ,\n",
    "--   sales_discount double ,\n",
    "--   sales_total_amount double ,\n",
    "--   sales_shipping_cost double ,\n",
    "--   sales_person_id bigint references salesperson_dim(sp_id) ,\n",
    "--   product_id bigint references product_dim(product_id) ,\n",
    "--   customer_id bigint references customer_dim(customer_id) ,\n",
    "--   supplier_id bigint references supplier_dim(supplier_id)\n",
    "-- );\n",
    "\n",
    "create table if not exists sales_data.silver.sales_fact using delta as\n",
    "select \n",
    "OrderID,\n",
    "OrderDate,\n",
    "Quantity,\n",
    "UnitPrice,\n",
    "Discount,\n",
    "TotalAmount,\n",
    "ShippingCost,\n",
    "SalesPersonID,\n",
    "ProductID,\n",
    "CustomerID,\n",
    "SupplierID\n",
    "from sales_data.bronze.sales;\n",
    "\n",
    "select * from sales_data.silver.sales_fact"
   ]
  }
 ],
 "metadata": {
  "application/vnd.databricks.v1+notebook": {
   "computePreferences": null,
   "dashboards": [],
   "environmentMetadata": {
    "base_environment": "",
    "environment_version": "2"
   },
   "inputWidgetPreferences": null,
   "language": "python",
   "notebookMetadata": {
    "mostRecentlyExecutedCommandWithImplicitDF": {
     "commandId": -1,
     "dataframes": [
      "_sqldf"
     ]
    },
    "pythonIndentUnit": 4
   },
   "notebookName": "sales_data_star_schema",
   "widgets": {}
  },
  "language_info": {
   "name": "python"
  }
 },
 "nbformat": 4,
 "nbformat_minor": 0
}
